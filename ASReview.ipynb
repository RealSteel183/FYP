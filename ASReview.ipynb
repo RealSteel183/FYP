{
 "cells": [
  {
   "cell_type": "code",
   "execution_count": null,
   "id": "48af068d-2b7b-403c-b8d5-f6fe401bac6e",
   "metadata": {
    "tags": []
   },
   "outputs": [
    {
     "name": "stdout",
     "output_type": "stream",
     "text": [
      "Port 5000 is in use.\n",
      "* Trying to start at 5001\n",
      "Start browser at http://localhost:5001/\n",
      "\n",
      "\n",
      "\n",
      "If your browser doesn't open. Please navigate to 'http://localhost:5001/'\n",
      "\n",
      "\n",
      "\n",
      "\n",
      "127.0.0.1 - - [2023-11-06 10:59:31] \"GET / HTTP/1.1\" 200 794 0.006086\n",
      "127.0.0.1 - - [2023-11-06 10:59:31] \"GET /static/css/main.8d8848ef.css HTTP/1.1\" 200 8099 0.002672\n",
      "127.0.0.1 - - [2023-11-06 10:59:31] \"GET /static/js/main.71fabbab.js HTTP/1.1\" 200 1718092 0.013533\n",
      "127.0.0.1 - - [2023-11-06 10:59:31] \"GET /boot HTTP/1.1\" 200 180 0.000448\n",
      "127.0.0.1 - - [2023-11-06 10:59:32] \"GET /static/media/asreview_sub_logo_lab_black_transparent.c4e14af313ba97465fff113a6b2e4fd7.svg HTTP/1.1\" 200 127847 0.003391\n",
      "127.0.0.1 - - [2023-11-06 10:59:32] \"GET /static/media/roboto-latin-400.176f8f5bd5f02b3abfcf.woff2 HTTP/1.1\" 200 16105 0.000649\n",
      "127.0.0.1 - - [2023-11-06 10:59:32] \"GET /favicon.ico HTTP/1.1\" 200 1466 0.001497\n",
      "127.0.0.1 - - [2023-11-06 10:59:35] \"GET /api/projects/stats HTTP/1.1\" 200 196 0.003476\n",
      "127.0.0.1 - - [2023-11-06 10:59:35] \"GET /api/projects HTTP/1.1\" 200 930 0.001221\n",
      "127.0.0.1 - - [2023-11-06 10:59:35] \"GET /static/media/roboto-latin-700.c18ee39fb002ad58b6dc.woff2 HTTP/1.1\" 200 16185 0.001850\n",
      "127.0.0.1 - - [2023-11-06 10:59:35] \"GET /static/media/roboto-latin-500.f5b74d7ffcdf85b9dd60.woff2 HTTP/1.1\" 200 16241 0.001461\n",
      "127.0.0.1 - - [2023-11-06 10:59:38] \"GET /api/projects/fyp-cleaned/info HTTP/1.1\" 200 538 0.001480\n",
      "127.0.0.1 - - [2023-11-06 10:59:38] \"GET /api/projects/fyp-cleaned/progress HTTP/1.1\" 200 230 0.006827\n",
      "127.0.0.1 - - [2023-11-06 10:59:38] \"GET /api/projects/fyp-cleaned/progress_density HTTP/1.1\" 200 23829 0.168306\n",
      "127.0.0.1 - - [2023-11-06 10:59:38] \"GET /api/projects/fyp-cleaned/progress_recall HTTP/1.1\" 200 22780 0.007983\n",
      "127.0.0.1 - - [2023-11-06 10:59:38] \"GET /static/media/ElasHoldingSIGNS_Finished.417f4491e95fc76527da3e41f6b8186f.svg HTTP/1.1\" 200 10998 0.001757\n",
      "127.0.0.1 - - [2023-11-06 11:00:15] \"GET /api/projects/fyp-cleaned/labeled?subset=relevant&page=1 HTTP/1.1\" 200 39366 0.014138\n",
      "127.0.0.1 - - [2023-11-06 11:00:15] \"GET /static/media/ElasAvatar.8a0563d4e3d6ec692e336e7a7c110681.svg HTTP/1.1\" 200 1220 0.000707\n",
      "127.0.0.1 - - [2023-11-06 11:07:58] \"GET /api/projects/fyp-cleaned/progress HTTP/1.1\" 200 230 0.005150\n",
      "127.0.0.1 - - [2023-11-06 11:07:58] \"GET /api/projects/fyp-cleaned/progress_density HTTP/1.1\" 200 23829 0.167703\n",
      "127.0.0.1 - - [2023-11-06 11:07:58] \"GET /api/projects/fyp-cleaned/progress_recall HTTP/1.1\" 200 22780 0.007885\n",
      "127.0.0.1 - - [2023-11-06 11:08:01] \"GET /api/projects/fyp-cleaned/get_document HTTP/1.1\" 200 174 0.010632\n",
      "127.0.0.1 - - [2023-11-06 11:08:01] \"GET /static/media/ElasFinished.815b2578a515e2d1fe90d9c06d688d8a.svg HTTP/1.1\" 200 15277 0.000662\n",
      "127.0.0.1 - - [2023-11-06 11:08:03] \"GET /api/projects/fyp-cleaned/data HTTP/1.1\" 200 203 0.044995\n",
      "127.0.0.1 - - [2023-11-06 11:08:03] \"GET /api/algorithms HTTP/1.1\" 200 1240 0.090439\n",
      "127.0.0.1 - - [2023-11-06 11:08:03] \"GET /api/projects/fyp-cleaned/labeled_stats HTTP/1.1\" 200 246 0.003798\n",
      "127.0.0.1 - - [2023-11-06 11:08:03] \"GET /api/projects/fyp-cleaned/algorithms HTTP/1.1\" 200 235 0.001200\n"
     ]
    }
   ],
   "source": [
    "!asreview lab"
   ]
  },
  {
   "cell_type": "code",
   "execution_count": null,
   "id": "37099faa-5050-402b-a84e-cfe5836b0735",
   "metadata": {},
   "outputs": [],
   "source": []
  }
 ],
 "metadata": {
  "kernelspec": {
   "display_name": "Python 3 (ipykernel)",
   "language": "python",
   "name": "python3"
  },
  "language_info": {
   "codemirror_mode": {
    "name": "ipython",
    "version": 3
   },
   "file_extension": ".py",
   "mimetype": "text/x-python",
   "name": "python",
   "nbconvert_exporter": "python",
   "pygments_lexer": "ipython3",
   "version": "3.8.18"
  }
 },
 "nbformat": 4,
 "nbformat_minor": 5
}
